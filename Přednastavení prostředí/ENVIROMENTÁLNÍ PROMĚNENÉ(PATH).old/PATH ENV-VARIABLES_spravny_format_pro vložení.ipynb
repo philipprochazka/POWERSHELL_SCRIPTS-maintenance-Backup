{
 "cells": [
  {
   "cell_type": "code",
   "execution_count": null,
   "metadata": {},
   "outputs": [],
   "source": [
    "C:\\Program Files\\MySQL\\MySQL Shell 8.2\\bin\\; %USERPROFILE%\\AppData\\Local\\Programs\\Python\\Launcher\\; %USERPROFILE%\\scoop\\shims; %USERPROFILE%\\AppData\\Local\\Microsoft\\WindowsApps; %USERPROFILE%\\AppData\\Roaming\\Composer\\vendor\\bin; C:\\Program Files\\Intel\\WiFi\\bin\\; C:\\Program Files\\Common Files\\Intel\\WirelessCommon\\; C:\\tools\\mysql\\current\\bin; %USERPROFILE%\\.dotnet\\tools; %USERPROFILE%\\AppData\\Local\\GitHubDesktop\\bin; %USERPROFILE%\\AppData\\Local\\Yarn\\bin; %USERPROFILE%\\go\\bin; %USERPROFILE%\\AppData\\Local\\Programs\\oh-my-posh\\bin; %USERPROFILE%\\AppData\\Local\\Microsoft\\WinGet\\Links; C:\\ProgramData\\chocolatey\\lib\\mingw\\tools\\install\\mingw64\\bin; %USERPROFILE%\\.dotnet\\tools; C:\\ProgramData\\chocolatey\\lib\\deno; %USERPROFILE%\\go\\bin; C:\\Program Files\\Neovim\\bin; %USERPROFILE%\\AppData\\Roaming\\npm"
   ]
  }
 ],
 "metadata": {
  "kernelspec": {
   "display_name": "Python 3",
   "language": "python",
   "name": "python3"
  },
  "language_info": {
   "name": "python",
   "version": "3.12.1"
  }
 },
 "nbformat": 4,
 "nbformat_minor": 2
}
