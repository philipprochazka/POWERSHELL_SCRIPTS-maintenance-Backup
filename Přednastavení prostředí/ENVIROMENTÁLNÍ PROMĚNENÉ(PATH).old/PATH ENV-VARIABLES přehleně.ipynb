{
 "cells": [
  {
   "cell_type": "code",
   "execution_count": null,
   "metadata": {},
   "outputs": [],
   "source": [
    "C:\\Program Files\\MySQL\\MySQL Shell 8.2\\bin\\; \n",
    "C:\\Users\\philip\\AppData\\Local\\Programs\\Python\\Launcher\\; \n",
    "C:\\Users\\philip\\scoop\\shims; \n",
    "C:\\Users\\philip\\AppData\\Local\\Microsoft\\WindowsApps; \n",
    "C:\\Users\\philip\\AppData\\Roaming\\Composer\\vendor\\bin; \n",
    "C:\\Program Files\\Intel\\WiFi\\bin\\; \n",
    "C:\\Program Files\\Common Files\\Intel\\WirelessCommon\\; \n",
    "C:\\tools\\mysql\\current\\bin; \n",
    "C:\\Users\\philip\\.dotnet\\tools; \n",
    "C:\\Users\\philip\\AppData\\Local\\GitHubDesktop\\bin; \n",
    "C:\\Users\\philip\\AppData\\Local\\Yarn\\bin; \n",
    "C:\\Users\\philip\\go\\bin; \n",
    "C:\\Users\\philip\\AppData\\Local\\Programs\\oh-my-posh\\bin; \n",
    "C:\\Users\\philip\\AppData\\Local\\Microsoft\\WinGet\\Links; \n",
    "C:\\ProgramData\\chocolatey\\lib\\mingw\\tools\\install\\mingw64\\bin; \n",
    "%USERPROFILE%\\.dotnet\\tools; \n",
    "C:\\ProgramData\\chocolatey\\lib\\deno; \n",
    "%USERPROFILE%\\go\\bin; \n",
    "C:\\Program Files\\Neovim\\bin; \n",
    "C:\\Users\\philip\\AppData\\Roaming\\npm"
   ]
  }
 ],
 "metadata": {
  "language_info": {
   "name": "python"
  }
 },
 "nbformat": 4,
 "nbformat_minor": 2
}
